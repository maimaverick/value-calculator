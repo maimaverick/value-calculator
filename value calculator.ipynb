{
 "cells": [
  {
   "cell_type": "code",
   "execution_count": 4,
   "metadata": {},
   "outputs": [],
   "source": [
    "import math\n",
    "\n",
    "class Investment():\n",
    "    def __init__(self,fv=0,pv=0,gr=0,yr=0):\n",
    "        '''\n",
    "        function to calculate stock value\n",
    "        fv = future value\n",
    "        pv = present value\n",
    "        gr = growth rate (%)\n",
    "        yr = how many years that you what to invest\n",
    "        \n",
    "        '''\n",
    "        self.fv = fv\n",
    "        self.pv = pv\n",
    "        self.gr = gr\n",
    "        self.yr = yr\n",
    "    \n",
    "    def find_fv(self):\n",
    "        self.fv = self.pv*(1 + (self.gr/100))**self.yr\n",
    "        print(self.fv)\n",
    "        \n",
    "    def find_pv(self):\n",
    "        self.pv = self.fv/((1 + (self.gr/100))**self.yr)\n",
    "        print(self.pv)\n",
    "        \n",
    "    def find_gr(self):\n",
    "        self.gr = (((self.fv/self.pv)**(1/self.yr))-1)*100\n",
    "        print(self.gr)\n",
    "        \n",
    "    def find_yr(self):\n",
    "        x = (self.fv/self.pv)\n",
    "        y = (1 + (self.gr/100))\n",
    "        #x = y**self.yr\n",
    "        self.yr = math.log(x,y)\n",
    "        print(self.yr)"
   ]
  },
  {
   "cell_type": "code",
   "execution_count": 20,
   "metadata": {},
   "outputs": [],
   "source": [
    "my_value = Investment(fv=20000,pv=3000,gr=20,yr=5)"
   ]
  },
  {
   "cell_type": "code",
   "execution_count": 14,
   "metadata": {},
   "outputs": [
    {
     "name": "stdout",
     "output_type": "stream",
     "text": [
      "7464.959999999998\n"
     ]
    }
   ],
   "source": [
    "my_value.find_fv()"
   ]
  },
  {
   "cell_type": "code",
   "execution_count": 17,
   "metadata": {},
   "outputs": [
    {
     "name": "stdout",
     "output_type": "stream",
     "text": [
      "8037.55144032922\n"
     ]
    }
   ],
   "source": [
    "my_value.find_pv()"
   ]
  },
  {
   "cell_type": "code",
   "execution_count": 19,
   "metadata": {},
   "outputs": [
    {
     "name": "stdout",
     "output_type": "stream",
     "text": [
      "46.144255162192536\n"
     ]
    }
   ],
   "source": [
    "my_value.find_gr()"
   ]
  },
  {
   "cell_type": "code",
   "execution_count": 21,
   "metadata": {},
   "outputs": [
    {
     "name": "stdout",
     "output_type": "stream",
     "text": [
      "10.405352050771793\n"
     ]
    }
   ],
   "source": [
    "my_value.find_yr()"
   ]
  },
  {
   "cell_type": "code",
   "execution_count": null,
   "metadata": {},
   "outputs": [],
   "source": []
  }
 ],
 "metadata": {
  "kernelspec": {
   "display_name": "Python 3",
   "language": "python",
   "name": "python3"
  },
  "language_info": {
   "codemirror_mode": {
    "name": "ipython",
    "version": 3
   },
   "file_extension": ".py",
   "mimetype": "text/x-python",
   "name": "python",
   "nbconvert_exporter": "python",
   "pygments_lexer": "ipython3",
   "version": "3.8.3"
  }
 },
 "nbformat": 4,
 "nbformat_minor": 4
}
